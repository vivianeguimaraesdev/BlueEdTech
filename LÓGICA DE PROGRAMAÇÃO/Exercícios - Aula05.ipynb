{
  "nbformat": 4,
  "nbformat_minor": 0,
  "metadata": {
    "colab": {
      "name": "Untitled1.ipynb",
      "provenance": [],
      "authorship_tag": "ABX9TyNPSTm9k8nCvL678a1tLXDl",
      "include_colab_link": true
    },
    "kernelspec": {
      "name": "python3",
      "display_name": "Python 3"
    },
    "language_info": {
      "name": "python"
    }
  },
  "cells": [
    {
      "cell_type": "markdown",
      "metadata": {
        "id": "view-in-github",
        "colab_type": "text"
      },
      "source": [
        "<a href=\"https://colab.research.google.com/github/vivianeguimaraesdev/BlueTurma2B-mod1/blob/main/Exerc%C3%ADcios%20-%20Aula05.ipynb\" target=\"_parent\"><img src=\"https://colab.research.google.com/assets/colab-badge.svg\" alt=\"Open In Colab\"/></a>"
      ]
    },
    {
      "cell_type": "markdown",
      "metadata": {
        "id": "sBrpMmrQpSgr"
      },
      "source": [
        "LISTA DE EXERCÍCIOS - AULA 05"
      ]
    },
    {
      "cell_type": "markdown",
      "metadata": {
        "id": "PFN93ycKEdOP"
      },
      "source": [
        "EXERCÍCIO 01"
      ]
    },
    {
      "cell_type": "code",
      "metadata": {
        "id": "y3roLPdapRzX"
      },
      "source": [
        "numero1 = int(input(\"Digite o primeiro número:\"))\n",
        "numero2 = int(input(\"Digite o segundo número:\"))\n",
        "numero3 = int(input(\"Digite o terceiro número:\"))\n",
        "\n",
        "#Achando o maior numero\n",
        "\n",
        "auxmaior = numero1\n",
        "\n",
        "if (numero2 > auxmaior):\n",
        "  auxmaior = numero2\n",
        "\n",
        "if (numero3 > auxmaior):\n",
        "  auxmaior = numero3\n",
        "\n",
        "print(\"O maior número digitado é:\", auxmaior)\n",
        "\n",
        "\n",
        "#Achando o menor numero\n",
        "\n",
        "auxmenor = numero1\n",
        "\n",
        "if (numero2 < auxmenor):\n",
        "  auxmenor = numero2\n",
        "\n",
        "if (numero3 < auxmenor):\n",
        "  auxmenor = numero3\n",
        "\n",
        "print(\"O menor número digitado é:\", auxmenor)\n",
        "\n",
        "3\n",
        "\n"
      ],
      "execution_count": null,
      "outputs": []
    },
    {
      "cell_type": "markdown",
      "metadata": {
        "id": "BS2NCW0WEh0M"
      },
      "source": [
        "EXERCÍCIO 02"
      ]
    },
    {
      "cell_type": "code",
      "metadata": {
        "id": "YVeTzsw3ElmN"
      },
      "source": [
        "numero1 = int(input(\"Digite o primeiro número:\"))\n",
        "numero2 = int(input(\"Digite o segundo número:\"))\n",
        "\n",
        "if (numero1 > numero2): \n",
        "  print(\"O maior número é:\", numero1)\n",
        "else:\n",
        "   print(\"O maior número é:\", numero2)"
      ],
      "execution_count": null,
      "outputs": []
    },
    {
      "cell_type": "markdown",
      "metadata": {
        "id": "Vde2aovaFSmH"
      },
      "source": [
        "EXERCÍCIO 03"
      ]
    },
    {
      "cell_type": "code",
      "metadata": {
        "id": "np_5xLRtFUYv"
      },
      "source": [
        "numero = int(input(\"Digite um número inteiro:\"))\n",
        "\n",
        "if (numero < 0):\n",
        "  print(\"O número\", numero,\"é negativo!\")\n",
        "\n",
        "if (numero == 0):\n",
        "  print(\"O número\", numero,\"é neutro!\")\n",
        "\n",
        "if (numero > 1):\n",
        "  print(\"O número\", numero,\"é positivo!\")"
      ],
      "execution_count": null,
      "outputs": []
    },
    {
      "cell_type": "markdown",
      "metadata": {
        "id": "Q0xFrJv4GvUv"
      },
      "source": [
        "EXERCÍCIO 04 "
      ]
    },
    {
      "cell_type": "code",
      "metadata": {
        "id": "Xbssmc52GxAd"
      },
      "source": [
        "sexo = input(\"Digite o gênero -  (F) para Feminino; (M) para Masculino: \")\n",
        "feminino = \"F\"\n",
        "masculino = \"M\"\n",
        "\n",
        "if sexo == masculino:\n",
        "  print(\"O sexo é masculino!\")\n",
        "elif sexo == feminino:\n",
        "  print(\"O sexo é feminino!\")\n",
        "else:\n",
        "  print(\"O sexo inserido é invalido!\")\n",
        "\n",
        "\n",
        "\n"
      ],
      "execution_count": null,
      "outputs": []
    },
    {
      "cell_type": "markdown",
      "metadata": {
        "id": "avb8CjhRMvpw"
      },
      "source": [
        "EXERCÍCIO 05"
      ]
    },
    {
      "cell_type": "code",
      "metadata": {
        "id": "1h2TwpCDMw9t"
      },
      "source": [
        "nota = float(input(\"Digite a nota do aluno: \"))\n",
        "\n",
        "if (nota < 6.0):\n",
        "  print(\"Nota: F!\")\n",
        "\n",
        "if (nota <= 7.0 and nota >= 6.0):\n",
        "  print(\"Nota: D!\")\n",
        "\n",
        "if (nota <= 8.0 and nota > 7.0):\n",
        "  print(\"Nota: C!\")\n",
        "\n",
        "if (nota <= 9.0 and nota > 8.0):\n",
        "  print(\"Nota: B!\")\n",
        "\n",
        "if (nota <= 10.0 and nota > 9.0):\n",
        "  print(\"Nota: A!\")"
      ],
      "execution_count": null,
      "outputs": []
    },
    {
      "cell_type": "markdown",
      "metadata": {
        "id": "y9JXmvpoQGmI"
      },
      "source": [
        "EXERCÍCIO 06"
      ]
    },
    {
      "cell_type": "code",
      "metadata": {
        "id": "z5Dl7cJ6TIKl"
      },
      "source": [
        "letra = input(\"Digite uma letra minúscula: \")\n",
        "vogal1 = \"a\"\n",
        "vogal2 = \"e\"\n",
        "vogal3 = \"i\"\n",
        "vogal4 = \"o\"\n",
        "vogal5 = \"u\"\n",
        "\n",
        "if letra == vogal1:\n",
        "  print(\"Esta letra é uma vogal!\")\n",
        "\n",
        "elif letra == vogal2:\n",
        "  print(\"Esta letra é uma vogal!\")\n",
        "\n",
        "elif letra == vogal3:\n",
        "  print(\"Esta letra é uma vogal!\")\n",
        "\n",
        "elif letra == vogal4:\n",
        "  print(\"Esta letra é uma vogal!\")\n",
        "\n",
        "elif letra == vogal5:\n",
        "  print(\"Esta letra é uma vogal!\")\n",
        "\n",
        "else:\n",
        "  print(\"Esta letra é uma consoante!\")"
      ],
      "execution_count": null,
      "outputs": []
    },
    {
      "cell_type": "markdown",
      "metadata": {
        "id": "IZYrxnGZVBE_"
      },
      "source": [
        "PROJETO 01"
      ]
    },
    {
      "cell_type": "code",
      "metadata": {
        "id": "-Q1ppTaTVRAH"
      },
      "source": [
        "#PARTE 01\n",
        "\n",
        "palavra = input(\"Digite medieval ou futurista: \")\n",
        "med = \"medieval\"\n",
        "fut = \"futurista\"\n",
        "\n",
        "if palavra == med:\n",
        "  print(\"Espada\")\n",
        "elif palavra == fut:\n",
        "  print(\"Sabre de Luz\")\n",
        "else:\n",
        "  print(\"Tente novamente!\")\n",
        "\n",
        "#PARTE 02\n",
        "\n",
        "tipoatk = input(\"Digite para atacar - sabre de luz ou espada:  \")\n",
        "atk1 = \"sabre de luz\"\n",
        "atk2 = \"espada\"\n",
        "\n",
        "if tipoatk == atk2:\n",
        "  print(\"Você ainda não matou o CHEFÃO!\")\n",
        "elif tipoatk == atk1:\n",
        "  print(\"Você derrotou o CHEFÃO com o sabre de luz!\")\n",
        "else:\n",
        "  print(\"Ataque novamente!\")\n"
      ],
      "execution_count": null,
      "outputs": []
    },
    {
      "cell_type": "markdown",
      "metadata": {
        "id": "QD6cGtjXYXWM"
      },
      "source": [
        "DESAFIO 01"
      ]
    },
    {
      "cell_type": "code",
      "metadata": {
        "id": "-BzrGId9YY_A"
      },
      "source": [
        "salario = float(input(\"Insira o salário do colaborador: \"))\n",
        "salario_corrigido = 0\n",
        "aumento = 0\n",
        "\n",
        "if (salario <= 280.00):\n",
        "  aumento = salario * 0.2\n",
        "  salario_corrigido = salario + aumento\n",
        "  print(\"O salário antes do reajuste é: \", salario)\n",
        "  print(\"O percentual de aumento aplicado é de 20%\")\n",
        "  print(\"O salário recebeu um aumento de: R$\",aumento )\n",
        "  print(\"O salário corrigido é: \", salario_corrigido)\n",
        "\n",
        "\n",
        "elif (salario > 280.00 and salario <= 700.00):\n",
        "  aumento = salario * 0.15\n",
        "  salario_corrigido = salario + aumento\n",
        "  print(\"O salário antes do reajuste é: \", salario)\n",
        "  print(\"O percentual de aumento aplicado é de 15%\")\n",
        "  print(\"O salário recebeu um aumento de: R$\",aumento )\n",
        "  print(\"O salário corrigido é: \", salario_corrigido)\n",
        "\n",
        "elif (salario > 700.00 and salario <= 1500):\n",
        "  aumento = salario * 0.10\n",
        "  salario_corrigido = salario + aumento\n",
        "  print(\"O salário antes do reajuste é: \", salario)\n",
        "  print(\"O percentual de aumento aplicado é de 10%\")\n",
        "  print(\"O salário recebeu um aumento de: R$\",aumento )\n",
        "  print(\"O salário corrigido é: \", salario_corrigido)\n",
        "\n",
        "elif (salario > 1500):\n",
        "  aumento = salario * 0.05\n",
        "  salario_corrigido = salario + aumento\n",
        "  print(\"O salário antes do reajuste é: \", salario)\n",
        "  print(\"O percentual de aumento aplicado é de 5%\")\n",
        "  print(\"O salário recebeu um aumento de: R$\",aumento )\n",
        "  print(\"O salário corrigido é: \", salario_corrigido)"
      ],
      "execution_count": null,
      "outputs": []
    },
    {
      "cell_type": "markdown",
      "metadata": {
        "id": "cVvUNnabc0jf"
      },
      "source": [
        "DESAFIO 02"
      ]
    },
    {
      "cell_type": "code",
      "metadata": {
        "id": "BM4jZlHtc2NW"
      },
      "source": [
        "dinheiro = int(input(\"Insira o valor de saque: \"))\n",
        "\n",
        "#Limite de saque\n",
        "\n",
        "if dinheiro < 10.00:\n",
        "  print(\"Não é possível sacar valores abaixo de R$10,00\")\n",
        "\n",
        "if dinheiro > 600.00:\n",
        "  print(\"Não é possível sacar valores acima de R$600,00\")\n",
        "\n",
        "#Comparação\n",
        "\n",
        "contador1 = 0\n",
        "contador5 = 0\n",
        "contador10 = 0\n",
        "contador50 = 0\n",
        "contador100 = 0\n",
        "\n",
        "while dinheiro >= 100:\n",
        "  dinheiro = dinheiro - 100\n",
        "  contador100 = contador100 + 1\n",
        "  \n",
        "while dinheiro >= 50:\n",
        "  dinheiro = dinheiro - 50\n",
        "  contador50 = contador50 + 1\n",
        "  \n",
        "while dinheiro >= 10:\n",
        "  dinheiro = dinheiro - 10\n",
        "  contador10 = contador10 + 1\n",
        "\n",
        "while dinheiro >= 5:\n",
        "  dinheiro = dinheiro - 5\n",
        "  contador5 = contador5 + 1\n",
        "  \n",
        "while dinheiro >= 1:\n",
        "  dinheiro = dinheiro - 1\n",
        "  contador1 = contador1 + 1\n",
        "\n",
        "if dinheiro == 0:  \n",
        "  print(\"Serão fornecidas\", contador100 , \"notas de R$100,00\")\n",
        "  print(\"Serão fornecidas\", contador50 , \"notas de R$50,00\")\n",
        "  print(\"Serão fornecidas\", contador10 , \"notas de R$10,00\")\n",
        "  print(\"Serão fornecidas\", contador5 , \"notas de R$5,00\")\n",
        "  print(\"Serão fornecidas\", contador1 , \"notas de R$1,00\")\n"
      ],
      "execution_count": null,
      "outputs": []
    }
  ]
}