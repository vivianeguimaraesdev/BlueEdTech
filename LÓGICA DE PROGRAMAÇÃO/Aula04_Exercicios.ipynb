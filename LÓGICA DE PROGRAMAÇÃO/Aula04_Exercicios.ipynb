{
  "nbformat": 4,
  "nbformat_minor": 0,
  "metadata": {
    "colab": {
      "name": "Aula04_Exercicios.ipynb",
      "provenance": [],
      "collapsed_sections": [],
      "include_colab_link": true
    },
    "kernelspec": {
      "name": "python3",
      "display_name": "Python 3"
    },
    "language_info": {
      "name": "python"
    }
  },
  "cells": [
    {
      "cell_type": "markdown",
      "metadata": {
        "id": "view-in-github",
        "colab_type": "text"
      },
      "source": [
        "<a href=\"https://colab.research.google.com/github/vivianeguimaraesdev/BlueTurma2B-mod1/blob/main/Aula04_Exercicios.ipynb\" target=\"_parent\"><img src=\"https://colab.research.google.com/assets/colab-badge.svg\" alt=\"Open In Colab\"/></a>"
      ]
    },
    {
      "cell_type": "markdown",
      "metadata": {
        "id": "DptQTkwqN7v9"
      },
      "source": [
        "# Exercícios de Aquecimento\n",
        "\n",
        "## Exercício 01\n",
        "Elabore um programa que imprima na tela a seguinte frase `Olá Mundo! Esse é o meu primeiro programa`"
      ]
    },
    {
      "cell_type": "code",
      "metadata": {
        "id": "fu-Hvxg7OT64",
        "colab": {
          "base_uri": "https://localhost:8080/"
        },
        "outputId": "e46937d9-f304-4d80-a5e5-786a6ab00b3c"
      },
      "source": [
        "print(\"Olá mundo! Esse é o meu primeiro programa\")"
      ],
      "execution_count": 1,
      "outputs": [
        {
          "output_type": "stream",
          "text": [
            "Olá mundo! Esse é o meu primeiro programa\n"
          ],
          "name": "stdout"
        }
      ]
    },
    {
      "cell_type": "markdown",
      "metadata": {
        "id": "HYnPLbl2OfuE"
      },
      "source": [
        "## Exercício 02\n",
        "Elabore um programa que escreve seu nome completo na primeira linha, seu endereço na segunda e o CEP e telefone na terceira.  \n",
        "\n",
        "**Exemplo:**\n",
        "```\n",
        "Nome: Bruno Fabri\n",
        "Endereço: Rua ABC\n",
        "CEP: 002220-010\n",
        "```"
      ]
    },
    {
      "cell_type": "code",
      "metadata": {
        "id": "sUrmuOzbO5Cd",
        "colab": {
          "base_uri": "https://localhost:8080/"
        },
        "outputId": "d70bb90e-55e5-4245-e709-1cf83db61d65"
      },
      "source": [
        "print(\"Nome: Vivianne Guimarães\")\n",
        "print(\"Rua Padre Faria\")\n",
        "print(\"CEP: 35400-000\")\n",
        "print(\"Telefone: 9 8901-3231\")\n",
        "\n",
        "\n",
        "#ou poderia ser em apenas uma linha"
      ],
      "execution_count": 3,
      "outputs": [
        {
          "output_type": "stream",
          "text": [
            "Nome: Vivianne Guimarães\n",
            "Rua Padre Faria\n",
            "CEP: 35400-000\n",
            "Telefone: 9 8901-3231\n"
          ],
          "name": "stdout"
        }
      ]
    },
    {
      "cell_type": "code",
      "metadata": {
        "colab": {
          "base_uri": "https://localhost:8080/"
        },
        "id": "UTTRR1Gv0zic",
        "outputId": "68aa6ac6-4fb6-4c83-833e-a262316e2472"
      },
      "source": [
        "print(\"Nome: Vivianne Guimarães \\nEndereço: Rua Padre Faria \\nCEP:35400-000\\nTelefone: 9 8901-3231\")\n",
        "# o /n é uma quebra de linha"
      ],
      "execution_count": 4,
      "outputs": [
        {
          "output_type": "stream",
          "text": [
            "Nome: Vivianne Guimarães \n",
            "Endereço: Rua Padre Faria \n",
            "CEP:35400-000\n",
            "Telefone: 9 8901-3231\n"
          ],
          "name": "stdout"
        }
      ]
    },
    {
      "cell_type": "markdown",
      "metadata": {
        "id": "5XVY0cvwP1WX"
      },
      "source": [
        "## Exercício 03\n",
        "Elabore um programa que recebe o nome de uma pessoa do terminal e mostra a seguinte mensagem: `Olá {nome}! Seja bem vindo ao fantástico mundo da programação`"
      ]
    },
    {
      "cell_type": "code",
      "metadata": {
        "id": "VDfwe6OSQM0M",
        "colab": {
          "base_uri": "https://localhost:8080/"
        },
        "outputId": "14b78c97-647a-48e9-abbc-5b2eb0f45729"
      },
      "source": [
        "nome = input(\"Digite o seu nome: \")\n",
        "print(\"Olá\", nome+\"!\", \"Seja bem vindo(a) ao fantástico mundo da programação!\")"
      ],
      "execution_count": 17,
      "outputs": [
        {
          "output_type": "stream",
          "text": [
            "Digite o seu nome: Vivianne\n",
            "Olá Vivianne! Seja bem vindo(a) ao fantástico mundo da programação!\n"
          ],
          "name": "stdout"
        }
      ]
    },
    {
      "cell_type": "markdown",
      "metadata": {
        "id": "Mbqv2-ii9NLS"
      },
      "source": [
        "Comando *.format*"
      ]
    },
    {
      "cell_type": "code",
      "metadata": {
        "colab": {
          "base_uri": "https://localhost:8080/"
        },
        "id": "hr9z1HXJ82lw",
        "outputId": "274f8f16-2d4a-4a4c-935d-22400e3df1dc"
      },
      "source": [
        "nome = input(\"Digite seu nome:\")\n",
        "print(\"Olá {}! Seja bem vindo(a) ao mundo fantástico da programação!\" .format(nome)) #ele preenche com a variavel indicada"
      ],
      "execution_count": 22,
      "outputs": [
        {
          "output_type": "stream",
          "text": [
            "Digite seu nome:Vivianne\n",
            "Olá Vivianne! Seja bem vindo(a) ao mundo fantástico da programação!\n"
          ],
          "name": "stdout"
        }
      ]
    },
    {
      "cell_type": "code",
      "metadata": {
        "colab": {
          "base_uri": "https://localhost:8080/"
        },
        "id": "A_ja1_Rr-hpH",
        "outputId": "d50f2108-4686-428a-9541-4a213cdee1ba"
      },
      "source": [
        "#não esquece de declarar a variavel e input antes\n",
        "\n",
        "print(f'Olá {nome}! Seja bem vindo(a) ao mundo fantástico da programação!')\n",
        "\n",
        "#esse f é uma forma simplificada de escrever o format. Chamam de \"sintaxe sugar\""
      ],
      "execution_count": 23,
      "outputs": [
        {
          "output_type": "stream",
          "text": [
            "Olá Vivianne! Seja bem vindo(a) ao mundo fantástico da programação!\n"
          ],
          "name": "stdout"
        }
      ]
    },
    {
      "cell_type": "markdown",
      "metadata": {
        "id": "1Nb29agVQc3k"
      },
      "source": [
        "## Exercício 04\n",
        "Elabore um programa que recebe dois valores inteiros e mostra a soma desses valores\n",
        "\n",
        "**Exemplo:**\n",
        "\n",
        "```\n",
        "Primeiro Valor = 2\n",
        "Segundo Valor = 3\n",
        "Soma = 5\n",
        "```"
      ]
    },
    {
      "cell_type": "code",
      "metadata": {
        "id": "a6_BwVwRROmH",
        "colab": {
          "base_uri": "https://localhost:8080/"
        },
        "outputId": "453f3ac4-2f7b-4aca-f36c-2ecacd21e24b"
      },
      "source": [
        "valor1 = int(input(\"Digite um número:\"))\n",
        "valor2 = int(input(\"Digite outro número:\"))\n",
        "print(\"A soma desses valores são:\",valor1 + valor2)"
      ],
      "execution_count": 14,
      "outputs": [
        {
          "output_type": "stream",
          "text": [
            "Digite um número:2\n",
            "Digite outro número:3\n",
            "A soma desses valores são: 5\n"
          ],
          "name": "stdout"
        }
      ]
    },
    {
      "cell_type": "markdown",
      "metadata": {
        "id": "4HQxR3FTTbSr"
      },
      "source": [
        "## Exercício 05\n",
        "Elabore um programa que recebe dois valores inteiros e mostra se o primeiro valor é maior ou igual ao segundo valor\n",
        "\n",
        "**Exemplo:**\n",
        "```\n",
        "Primeiro Valor = 3\n",
        "Segundo Valor = 2\n",
        "Resultado = True\n",
        "```"
      ]
    },
    {
      "cell_type": "code",
      "metadata": {
        "id": "OXISQASdTeSW",
        "colab": {
          "base_uri": "https://localhost:8080/"
        },
        "outputId": "1ac60482-8a2a-41f7-ca36-0fba0acc5c44"
      },
      "source": [
        "numero1 = int(input(\"Digite um número:\"))\n",
        "numero2 = int(input(\"Digite outro número:\"))\n",
        "print(numero1 >= numero2)"
      ],
      "execution_count": 24,
      "outputs": [
        {
          "output_type": "stream",
          "text": [
            "Digite um número:3\n",
            "Digite outro número:2\n",
            "True\n"
          ],
          "name": "stdout"
        }
      ]
    },
    {
      "cell_type": "markdown",
      "metadata": {
        "id": "Gn8rHPn3UCnc"
      },
      "source": [
        "## Exercício 06\n",
        "Elabore um programa que recebe o seu nome, endereço e hobby e mostra cada uma das informações da seguinte forma:\n",
        "- Nome -> Letra maiúscula\n",
        "- Endereço -> Letra minúscula\n",
        "- Hobby -> Primeira letra maiúscula\n",
        "\n",
        "**Exemplo Entrada:**\n",
        "```\n",
        "Nome: bruno fabri\n",
        "Endereço: Rua ABC\n",
        "Hobby: jogar cs\n",
        "```\n",
        "\n",
        "**Exemplo Saída:**\n",
        "```\n",
        "Nome: BRUNO FABRI\n",
        "Endereço: rua abc\n",
        "Hobby: Jogar cs\n",
        "```"
      ]
    },
    {
      "cell_type": "code",
      "metadata": {
        "id": "ZIj-PGVZVVP6"
      },
      "source": [
        "name = input(\"Digite um nome:\")\n",
        "end = input(\"Digite o seu endereço:\")\n",
        "hobby =  input(\"Digite o seu hobby\")\n",
        "\n",
        "print(name.upper())\n",
        "print(end.lower())\n",
        "print(hobby.title())\n",
        "print(name.capitalize())\n",
        "\n",
        "#Forma 2\n",
        "\n",
        "name = input(\"Digite um nome\").upper()\n",
        "end = input(\"Digite o seu endereço:\").lower\n",
        "hobby = input(\"Digite o seu hobby\").title\n",
        "\n",
        "print(name, end, hobby)\n"
      ],
      "execution_count": null,
      "outputs": []
    },
    {
      "cell_type": "markdown",
      "metadata": {
        "id": "wlvmEAPQNrcL"
      },
      "source": [
        "# Mini Projetos"
      ]
    },
    {
      "cell_type": "markdown",
      "metadata": {
        "id": "W8zwueNBKh4B"
      },
      "source": [
        "## Mini Projeto 01 - Conversor de Moeda\n",
        "Vamos construir um programa que irá converter moedas do real para o dólar e do dólar para o real. Vamos considerar que `$ 1,00 = R$ 5,75`\n",
        "\n",
        "### Parte 1\n",
        "Faça o conversor de moeda receber o valor em real e mostrar o valor convertido para dólar no formato `$ XXXX.XX`\n",
        "\n",
        "**Exemplo:**\n",
        "\n",
        "```\n",
        "Valor em R$ = 1000\n",
        "Valor em $ = $ 173.91\n",
        "```\n",
        "\n",
        "### Parte 2\n",
        "Altere o conversor de moedas para receber o valor em dólar, converter para real e mostrar o resultado no formato `R$ XXXX.XX`\n",
        "\n",
        "**Exemplo:**\n",
        "```\n",
        "Valor em $ = 1000\n",
        "Valor em R$ = R$ 5750.00\n",
        "```"
      ]
    },
    {
      "cell_type": "code",
      "metadata": {
        "id": "mRQ9fpIgMp5Z",
        "colab": {
          "base_uri": "https://localhost:8080/"
        },
        "outputId": "8cf49fab-0610-4748-cc12-303d5ed3d51f"
      },
      "source": [
        "#parte1 - dolar para o real\n",
        "\n",
        "real = float(input(\"Valor em reais (R$):\"))\n",
        "dolar = 5.75\n",
        "conversao = dolar / real\n",
        "\n",
        "\n",
        "print(\"O seu valor em dólar é {:.2f}\".format(conversao)) "
      ],
      "execution_count": 71,
      "outputs": [
        {
          "output_type": "stream",
          "text": [
            "Valor em reais (R$):56.87\n",
            "O seu valor em dólar é 0.10\n"
          ],
          "name": "stdout"
        }
      ]
    },
    {
      "cell_type": "code",
      "metadata": {
        "colab": {
          "base_uri": "https://localhost:8080/"
        },
        "id": "x7zApGeGKZ7D",
        "outputId": "3951cf55-9e09-4358-f72a-5f5ad10d08ce"
      },
      "source": [
        "#parte2 - real para o dolar \n",
        "\n",
        "real2 = float(input(\"Valor em real (R$)\"))\n",
        "dolar2 = 5.75\n",
        "\n",
        "cotando = dolar2 * real2\n",
        "\n",
        "print(\"Valor em dólar ${:.2f}\".format(cotando))"
      ],
      "execution_count": 77,
      "outputs": [
        {
          "output_type": "stream",
          "text": [
            "Valor em real (R$)45\n",
            "Valor em dólar $258.75\n"
          ],
          "name": "stdout"
        }
      ]
    },
    {
      "cell_type": "markdown",
      "metadata": {
        "id": "0NmAiF2DV_ju"
      },
      "source": [
        "## Mini Projeto 02 - Calculadora de aumento de aluguel\n",
        "Vamos construir um programa que irá calcular o aumento anual do seu aluguel em duas partes:\n",
        "\n",
        "### Parte 1\n",
        "A sua calculadora vai receber o `valor do aluguel` e calcular o aumento baseado no `IGPM de 31%`. A calculadora deve apresentar o aluguel reajustado no formato `R$ XXXX.XX`\n",
        "\n",
        "**Exemplo:**\n",
        "```\n",
        "Valor do aluguel = 1000\n",
        "Valor do aluguel reajustado = R$ 1310,00\n",
        "```\n",
        "\n",
        "### Parte 2\n",
        "Agora, altere sua calculadora para receber além do `valor do aluguel`, o percentual do reajuste no formato `XX%`.  \n",
        "\n",
        "**Dica:** Descubra uma forma de transformar o percentual recebido em um número para efetuar o cálculo.\n",
        "\n",
        "**Exemplo:**\n",
        "```\n",
        "Valor do aluguel = 1000\n",
        "Percentual do reajuste = 31%\n",
        "Valor do aluguel reajustado = R% 1310,00\n",
        "```"
      ]
    },
    {
      "cell_type": "code",
      "metadata": {
        "id": "0eHzSCyaGkYJ",
        "colab": {
          "base_uri": "https://localhost:8080/"
        },
        "outputId": "1d3b6750-e9eb-4d9f-ac19-3b4a12d27237"
      },
      "source": [
        "#Parte 01\n",
        "\n",
        "aluguel = float(input(\"Qual é o valor do aluguel? R$\"))\n",
        "ajuste = aluguel + (aluguel * 0.31)\n",
        "print (\"O valor do aluguel atualizado é: R${}\".format(ajuste))"
      ],
      "execution_count": 79,
      "outputs": [
        {
          "output_type": "stream",
          "text": [
            "Qual é o valor do aluguel? R$1000\n",
            "O valor do aluguel atualizado é: R$1310.0\n"
          ],
          "name": "stdout"
        }
      ]
    },
    {
      "cell_type": "code",
      "metadata": {
        "colab": {
          "base_uri": "https://localhost:8080/"
        },
        "id": "pEgEQrWJVO1k",
        "outputId": "e7c52084-ea98-4bd6-9cf1-b5ac3da5f38e"
      },
      "source": [
        "#Parte 02\n",
        "\n",
        "porcentagem = input(\"Qual o percentual de aumento?\")\n",
        "\n",
        "porcentagem = int(porcentagem [0:2])\n",
        "\n",
        "sempercentual = porcentagem / 100\n",
        "\n",
        "print(sempercentual)\n",
        "\n",
        "aluguel2: float(input(\"Qual o valor do aluguel?\"))\n",
        "\n",
        "print(\"O valor do aluguel com o percentual é:\", aluguel2 * sempercentual + aluguel2)\n",
        "\n",
        "\n",
        "\n",
        "\n",
        "\n",
        "\n"
      ],
      "execution_count": 101,
      "outputs": [
        {
          "output_type": "stream",
          "text": [
            "Qual o percentual de aumento?31%\n",
            "0.31\n",
            "Qual o valor do aluguel?1000\n",
            "O valor do aluguel com o percentual é: 1310.0\n"
          ],
          "name": "stdout"
        }
      ]
    },
    {
      "cell_type": "markdown",
      "metadata": {
        "id": "xN88sUuMOG46"
      },
      "source": [
        "## Mini Projeto 03 - Calculadora de dano\n",
        "Vamos implementar a calculadora de dano de RPG!!\n",
        "\n",
        "### Parte 1\n",
        "O programa vai receber a `vida e um monstro (entre 10 e 50)` e o `valor do ataque do jogador por turno (entre 5 e 10)`\n",
        "\n",
        "Baseado nos valores, exiba a quantidade de turnos que o jogador irá demorar para conseguir derrotar o monstro.\n",
        "\n",
        "**Exemplo:**\n",
        "```\n",
        "Vida de um monstro (entre 10 e 50): 26\n",
        "Valor do ataque do jogador por turno (entre 5 e 10): 5\n",
        "Resultado: O jogador irá precisar de 6 turnos para derrotar o monstro.\n",
        "```\n",
        "\n",
        "### Parte 2\n",
        "Altere o programa para ao invés de receber a vida do monstro, gerar aleatoriamente um valor entre 10 e 50."
      ]
    },
    {
      "cell_type": "code",
      "metadata": {
        "id": "Mrpz9UomQH2P",
        "colab": {
          "base_uri": "https://localhost:8080/"
        },
        "outputId": "7b66fe81-927b-41b3-b082-4814e1fcb99f"
      },
      "source": [
        "#Parte 01\n",
        "\n",
        "import random\n",
        "\n",
        "monstro = random.randint(10,50)\n",
        "jogador = random.randint(5,10)\n",
        "\n",
        "\n",
        "\n",
        "\n"
      ],
      "execution_count": 104,
      "outputs": [
        {
          "output_type": "stream",
          "text": [
            "44\n"
          ],
          "name": "stdout"
        }
      ]
    }
  ]
}